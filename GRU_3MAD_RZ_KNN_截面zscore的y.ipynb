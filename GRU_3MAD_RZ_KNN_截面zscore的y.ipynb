{
 "cells": [
  {
   "cell_type": "markdown",
   "id": "2230f5da-4066-4b11-bcbc-18b5e9cc6345",
   "metadata": {},
   "source": [
    "导入所需包，准备数据"
   ]
  },
  {
   "cell_type": "code",
   "execution_count": 4,
   "id": "a3bca93b-0815-473e-8502-16f3a909e0e9",
   "metadata": {},
   "outputs": [],
   "source": [
    "import pandas as pd\n",
    "import numpy as np\n",
    "import pickle\n",
    "import model_function\n",
    "import preprocessing\n",
    "from datetime import datetime\n",
    "import torch\n",
    "import torch.nn as nn\n",
    "import torch.optim as optim\n",
    "from torch.utils.data import DataLoader, Dataset"
   ]
  },
  {
   "cell_type": "markdown",
   "id": "cec33f63-759f-4d55-983c-f5fddc9b5127",
   "metadata": {},
   "source": [
    "构建GRU样本，使用同一支股票连续10天的被选出的10个特征作为模型输入，预测最后一天的y值，这里使用经过截面zscore处理的y作为标签"
   ]
  },
  {
   "cell_type": "code",
   "execution_count": 5,
   "id": "cc203066-9b12-4e2d-b4d2-99001fc62669",
   "metadata": {},
   "outputs": [],
   "source": [
    "with open('./data/GRU_3MAD_RZ_KNN训练样本.pkl', 'rb') as f:\n",
    "    train_samples = pickle.load(f)\n",
    "with open('./data/GRU_3MAD_RZ_KNN验证样本.pkl', 'rb') as f:\n",
    "    valid_samples = pickle.load(f)\n",
    "with open('./data/GRU_3MAD_RZ_KNN测试样本.pkl', 'rb') as f:\n",
    "    test_samples = pickle.load(f)"
   ]
  },
  {
   "cell_type": "code",
   "execution_count": 6,
   "id": "1a218d53-6c39-46bb-a5c0-172f94302f36",
   "metadata": {},
   "outputs": [
    {
     "name": "stdout",
     "output_type": "stream",
     "text": [
      "开始时间为: 2024-04-23 23:11:21.290001\n",
      "结束时间为: 2024-04-23 23:15:45.374344\n",
      "处理时间为： 0:04:24.084343\n"
     ]
    }
   ],
   "source": [
    "start_time = datetime.now()\n",
    "print(\"开始时间为:\", start_time)\n",
    "\n",
    "# 为节省内存，把后面验证需要的数据先生成，以便早点删除占内存极大的样本变量\n",
    "GRU_valid_df_ori = pd.DataFrame(valid_samples[:, -1, [0, 1, -1]], columns=['date', 'code', 'y'])\n",
    "GRU_test_result_ori = pd.DataFrame(test_samples[:, -1, [0, 1]], columns=['date', 'code'])\n",
    "\n",
    "train_targets = train_samples[:, -1, -1].astype(float)\n",
    "train_features = train_samples[:, :, 2:-2].astype(float)\n",
    "valid_targets = valid_samples[:, -1, -1].astype(float)\n",
    "valid_features = valid_samples[:, :, 2:-2].astype(float)\n",
    "test_features = test_samples[:, :, 2:].astype(float)\n",
    "\n",
    "end_time = datetime.now()\n",
    "print(\"结束时间为:\", end_time)\n",
    "print(\"处理时间为：\", end_time - start_time)"
   ]
  },
  {
   "cell_type": "code",
   "execution_count": 7,
   "id": "c9bb5b26-aab2-4971-98f0-e0ed0c4a68e0",
   "metadata": {},
   "outputs": [],
   "source": [
    "del train_samples\n",
    "del valid_samples\n",
    "del test_samples"
   ]
  },
  {
   "cell_type": "code",
   "execution_count": 8,
   "id": "6385f069-1ff4-4442-ab34-4e90422e7467",
   "metadata": {},
   "outputs": [],
   "source": [
    "# 定义数据集类\n",
    "class StockDataset(Dataset):\n",
    "    def __init__(self, features, targets):\n",
    "        self.features = torch.tensor(features, dtype=torch.float)\n",
    "        self.targets = torch.tensor(targets, dtype=torch.float)\n",
    "\n",
    "    def __len__(self):\n",
    "        return len(self.features)\n",
    "\n",
    "    def __getitem__(self, idx):\n",
    "        return self.features[idx], self.targets[idx]"
   ]
  },
  {
   "cell_type": "code",
   "execution_count": 9,
   "id": "e8a83119-74f8-49bc-abd0-8adadeafa100",
   "metadata": {},
   "outputs": [],
   "source": [
    "# 准备数据集\n",
    "train_dataset = StockDataset(train_features, train_targets)\n",
    "valid_dataset = StockDataset(valid_features, valid_targets)"
   ]
  },
  {
   "cell_type": "code",
   "execution_count": 10,
   "id": "3280e0c9-c828-428e-ab84-81630e35a159",
   "metadata": {},
   "outputs": [
    {
     "name": "stdout",
     "output_type": "stream",
     "text": [
      "使用的设备: cuda\n"
     ]
    }
   ],
   "source": [
    "device = torch.device(\"cuda\" if torch.cuda.is_available() else \"cpu\")\n",
    "print(\"使用的设备:\", device)"
   ]
  },
  {
   "cell_type": "code",
   "execution_count": 41,
   "id": "3e9d9058-6d42-4e28-97e5-1291f27cf5ae",
   "metadata": {},
   "outputs": [],
   "source": [
    "# 定义GRU模型\n",
    "class GRUNet(nn.Module):\n",
    "    def __init__(self, input_size, hidden_size, num_layers=1):\n",
    "        super(GRUNet, self).__init__()\n",
    "        self.hidden_size = hidden_size\n",
    "        self.num_layers = num_layers\n",
    "        self.gru = nn.GRU(input_size, hidden_size, num_layers, dropout=0.1, batch_first=True) #加入dropout减少过拟合\n",
    "        self.bn = nn.BatchNorm1d(hidden_size)\n",
    "        self.fc = nn.Linear(hidden_size, 1)\n",
    "\n",
    "    def forward(self, x):\n",
    "        h0 = torch.zeros(self.num_layers, x.size(0), self.hidden_size).to(x.device)  # 默认使用全零张量作为初始隐藏状态\n",
    "        # 前向传播 GRU\n",
    "        out, _ = self.gru(x, h0)\n",
    "        # 取最后一个时间步的输出\n",
    "        out = out[:, -1, :]\n",
    "        # 批量归一化\n",
    "        out = self.bn(out)\n",
    "        # 全连接层\n",
    "        out = self.fc(out)\n",
    "        return out\n",
    "\n",
    "# 用IC作为损失函数\n",
    "def pearson_correlation(x, y):\n",
    "    cov = torch.mean((x - torch.mean(x)) * (y - torch.mean(y)))\n",
    "    std_x = torch.std(x)\n",
    "    std_y = torch.std(y)\n",
    "    return cov / (std_x * std_y)\n",
    "\n",
    "class PearsonLoss(nn.Module):\n",
    "    def __init__(self):\n",
    "        super(PearsonLoss, self).__init__()\n",
    "\n",
    "    def forward(self, x, y):\n",
    "        return -pearson_correlation(x, y)"
   ]
  },
  {
   "cell_type": "code",
   "execution_count": 57,
   "id": "1dbf83cb-689b-4224-b0f7-7a48b1f89efb",
   "metadata": {},
   "outputs": [],
   "source": [
    "# 定义模型、损失函数和优化器\n",
    "input_size = 10  # 特征数量\n",
    "hidden_size = 64  # 隐藏层大小\n",
    "num_layers = 2  # GRU层数\n",
    "model = GRUNet(input_size, hidden_size, num_layers).to(device)\n",
    "criterion = PearsonLoss()\n",
    "#criterion = nn.MSELoss()\n",
    "optimizer = optim.Adam(model.parameters(), lr=0.0001)\n",
    "\n",
    "# 模型训练参数\n",
    "num_epochs = 5\n",
    "batch_size = 128\n",
    "train_loader = DataLoader(train_dataset, batch_size=batch_size, shuffle=True)"
   ]
  },
  {
   "cell_type": "code",
   "execution_count": 58,
   "id": "7f4c69de-658d-4a81-8d67-2f1c9a65f670",
   "metadata": {},
   "outputs": [
    {
     "name": "stdout",
     "output_type": "stream",
     "text": [
      "开始时间为: 2024-04-24 08:40:56.477146\n",
      "Epoch [1/5], Loss: -0.0931\n",
      "Epoch [2/5], Loss: -0.1176\n",
      "Epoch [3/5], Loss: -0.1264\n",
      "Epoch [4/5], Loss: -0.1329\n",
      "Epoch [5/5], Loss: -0.1386\n",
      "结束时间为: 2024-04-24 09:00:06.327915\n",
      "处理时间为： 0:19:09.850769\n"
     ]
    }
   ],
   "source": [
    "start_time = datetime.now()\n",
    "print(\"开始时间为:\", start_time)\n",
    "\n",
    "for epoch in range(num_epochs):\n",
    "    model.train()\n",
    "    total_loss = 0  # 初始化整个 epoch 的损失\n",
    "    total_batches = 0  # 初始化总批次数\n",
    "    for features, target in train_loader:\n",
    "        features, target = features.to(device), target.to(device)\n",
    "        optimizer.zero_grad()\n",
    "        outputs = model(features)\n",
    "        loss = criterion(outputs.squeeze(), target)\n",
    "        #loss.requires_grad_(True)\n",
    "        loss.backward()\n",
    "        optimizer.step()\n",
    "\n",
    "        total_loss += loss.item()  # 累加当前批次的损失值\n",
    "        total_batches += 1  # 更新总批次数\n",
    "\n",
    "    epoch_loss = total_loss / total_batches\n",
    "    print(f'Epoch [{epoch+1}/{num_epochs}], Loss: {epoch_loss:.4f}')\n",
    "\n",
    "end_time = datetime.now()\n",
    "print(\"结束时间为:\", end_time)\n",
    "print(\"处理时间为：\", end_time - start_time)"
   ]
  },
  {
   "cell_type": "code",
   "execution_count": 59,
   "id": "5c1c43e3-f9a0-4229-a43b-37aeefb6a3a1",
   "metadata": {},
   "outputs": [
    {
     "name": "stdout",
     "output_type": "stream",
     "text": [
      "开始时间为: 2024-04-24 09:00:06.401026\n",
      "Average Valid Loss: -0.0566\n",
      "rankic均值为： 0.06182834615746414\n",
      "结束时间为: 2024-04-24 09:00:22.002136\n",
      "处理时间为： 0:00:15.601110\n"
     ]
    }
   ],
   "source": [
    "start_time = datetime.now()\n",
    "print(\"开始时间为:\", start_time)\n",
    "\n",
    "# 评估模型\n",
    "valid_loader = DataLoader(valid_dataset, batch_size=batch_size, shuffle=False)\n",
    "model.eval()\n",
    "predictions = []\n",
    "\n",
    "with torch.no_grad():\n",
    "    total_loss = 0\n",
    "    for features, target in valid_loader:\n",
    "        features, target = features.to(device), target.to(device)\n",
    "        outputs = model(features)\n",
    "        predictions.append(outputs)\n",
    "        total_loss += criterion(outputs.squeeze(), target).item()\n",
    "        \n",
    "    print(f'Average Valid Loss: {total_loss / len(valid_loader):.4f}')\n",
    "\n",
    "predictions = torch.cat(predictions, dim=0)\n",
    "predictions_series = pd.Series(predictions.reshape(-1).cpu().numpy())\n",
    "GRU_valid_df = GRU_valid_df_ori.copy()\n",
    "GRU_valid_df['y_pred'] = predictions_series\n",
    "GRU_rankic = model_function.get_rankic(GRU_valid_df)\n",
    "\n",
    "end_time = datetime.now()\n",
    "print(\"结束时间为:\", end_time)\n",
    "print(\"处理时间为：\", end_time - start_time)"
   ]
  },
  {
   "cell_type": "code",
   "execution_count": 60,
   "id": "fa5f97d7-65a2-4556-b095-df8b56ca2f74",
   "metadata": {},
   "outputs": [
    {
     "data": {
      "text/html": [
       "<div>\n",
       "<style scoped>\n",
       "    .dataframe tbody tr th:only-of-type {\n",
       "        vertical-align: middle;\n",
       "    }\n",
       "\n",
       "    .dataframe tbody tr th {\n",
       "        vertical-align: top;\n",
       "    }\n",
       "\n",
       "    .dataframe thead th {\n",
       "        text-align: right;\n",
       "    }\n",
       "</style>\n",
       "<table border=\"1\" class=\"dataframe\">\n",
       "  <thead>\n",
       "    <tr style=\"text-align: right;\">\n",
       "      <th></th>\n",
       "      <th>date</th>\n",
       "      <th>RankIC</th>\n",
       "    </tr>\n",
       "  </thead>\n",
       "  <tbody>\n",
       "    <tr>\n",
       "      <th>0</th>\n",
       "      <td>1541.0</td>\n",
       "      <td>0.077029</td>\n",
       "    </tr>\n",
       "    <tr>\n",
       "      <th>1</th>\n",
       "      <td>1542.0</td>\n",
       "      <td>0.028718</td>\n",
       "    </tr>\n",
       "    <tr>\n",
       "      <th>2</th>\n",
       "      <td>1543.0</td>\n",
       "      <td>0.033183</td>\n",
       "    </tr>\n",
       "    <tr>\n",
       "      <th>3</th>\n",
       "      <td>1544.0</td>\n",
       "      <td>0.080002</td>\n",
       "    </tr>\n",
       "    <tr>\n",
       "      <th>4</th>\n",
       "      <td>1545.0</td>\n",
       "      <td>0.106532</td>\n",
       "    </tr>\n",
       "    <tr>\n",
       "      <th>...</th>\n",
       "      <td>...</td>\n",
       "      <td>...</td>\n",
       "    </tr>\n",
       "    <tr>\n",
       "      <th>156</th>\n",
       "      <td>1697.0</td>\n",
       "      <td>0.012055</td>\n",
       "    </tr>\n",
       "    <tr>\n",
       "      <th>157</th>\n",
       "      <td>1698.0</td>\n",
       "      <td>0.047702</td>\n",
       "    </tr>\n",
       "    <tr>\n",
       "      <th>158</th>\n",
       "      <td>1699.0</td>\n",
       "      <td>0.078119</td>\n",
       "    </tr>\n",
       "    <tr>\n",
       "      <th>159</th>\n",
       "      <td>1700.0</td>\n",
       "      <td>0.064405</td>\n",
       "    </tr>\n",
       "    <tr>\n",
       "      <th>160</th>\n",
       "      <td>1701.0</td>\n",
       "      <td>0.074026</td>\n",
       "    </tr>\n",
       "  </tbody>\n",
       "</table>\n",
       "<p>161 rows × 2 columns</p>\n",
       "</div>"
      ],
      "text/plain": [
       "       date    RankIC\n",
       "0    1541.0  0.077029\n",
       "1    1542.0  0.028718\n",
       "2    1543.0  0.033183\n",
       "3    1544.0  0.080002\n",
       "4    1545.0  0.106532\n",
       "..      ...       ...\n",
       "156  1697.0  0.012055\n",
       "157  1698.0  0.047702\n",
       "158  1699.0  0.078119\n",
       "159  1700.0  0.064405\n",
       "160  1701.0  0.074026\n",
       "\n",
       "[161 rows x 2 columns]"
      ]
     },
     "execution_count": 60,
     "metadata": {},
     "output_type": "execute_result"
    }
   ],
   "source": [
    "GRU_rankic"
   ]
  },
  {
   "cell_type": "code",
   "execution_count": 61,
   "id": "a57a2920-7d95-4d10-8fb5-133466af195c",
   "metadata": {},
   "outputs": [],
   "source": [
    "class TestDataset(Dataset):\n",
    "    def __init__(self, features):\n",
    "        self.features = torch.tensor(features, dtype=torch.float)\n",
    "\n",
    "    def __len__(self):\n",
    "        return len(self.features)\n",
    "\n",
    "    def __getitem__(self, idx):\n",
    "        return self.features[idx]"
   ]
  },
  {
   "cell_type": "code",
   "execution_count": 62,
   "id": "d650bfdd-dbe4-495e-86d6-e854b17e7bf4",
   "metadata": {},
   "outputs": [],
   "source": [
    "# 准备测试集数据\n",
    "test_dataset = TestDataset(test_features)\n",
    "\n",
    "# 创建测试集数据加载器\n",
    "test_loader = DataLoader(test_dataset, batch_size=batch_size, shuffle=False)"
   ]
  },
  {
   "cell_type": "code",
   "execution_count": 63,
   "id": "bad970c5-8aa9-4b8e-b54f-d2706c971aba",
   "metadata": {},
   "outputs": [
    {
     "name": "stdout",
     "output_type": "stream",
     "text": [
      "开始时间为: 2024-04-24 09:00:29.556694\n",
      "结束时间为: 2024-04-24 09:02:29.546943\n",
      "处理时间为： 0:01:59.990249\n"
     ]
    }
   ],
   "source": [
    "start_time = datetime.now()\n",
    "print(\"开始时间为:\", start_time)\n",
    "\n",
    "# 进行预测\n",
    "predictions = []\n",
    "with torch.no_grad():\n",
    "    for features in test_loader:\n",
    "        features = features.to(device)\n",
    "        outputs = model(features)\n",
    "        predictions.append(outputs)\n",
    "\n",
    "# 将所有预测结果连接成一个张量\n",
    "predictions = torch.cat(predictions, dim=0)\n",
    "predictions_series = pd.Series(predictions.reshape(-1).cpu().numpy())\n",
    "GRU_test_result = GRU_test_result_ori.copy()\n",
    "GRU_test_result['y_pred'] = predictions_series\n",
    "\n",
    "end_time = datetime.now()\n",
    "print(\"结束时间为:\", end_time)\n",
    "print(\"处理时间为：\", end_time - start_time)"
   ]
  },
  {
   "cell_type": "code",
   "execution_count": 64,
   "id": "393ecf2d-f149-4eab-bcf8-3eb80df6cd33",
   "metadata": {},
   "outputs": [
    {
     "data": {
      "text/html": [
       "<div>\n",
       "<style scoped>\n",
       "    .dataframe tbody tr th:only-of-type {\n",
       "        vertical-align: middle;\n",
       "    }\n",
       "\n",
       "    .dataframe tbody tr th {\n",
       "        vertical-align: top;\n",
       "    }\n",
       "\n",
       "    .dataframe thead th {\n",
       "        text-align: right;\n",
       "    }\n",
       "</style>\n",
       "<table border=\"1\" class=\"dataframe\">\n",
       "  <thead>\n",
       "    <tr style=\"text-align: right;\">\n",
       "      <th></th>\n",
       "      <th>date</th>\n",
       "      <th>code</th>\n",
       "      <th>y_pred</th>\n",
       "    </tr>\n",
       "  </thead>\n",
       "  <tbody>\n",
       "    <tr>\n",
       "      <th>0</th>\n",
       "      <td>1711</td>\n",
       "      <td>s_0</td>\n",
       "      <td>0.012596</td>\n",
       "    </tr>\n",
       "    <tr>\n",
       "      <th>1</th>\n",
       "      <td>1712</td>\n",
       "      <td>s_0</td>\n",
       "      <td>-0.743100</td>\n",
       "    </tr>\n",
       "    <tr>\n",
       "      <th>2</th>\n",
       "      <td>1713</td>\n",
       "      <td>s_0</td>\n",
       "      <td>-0.331426</td>\n",
       "    </tr>\n",
       "    <tr>\n",
       "      <th>3</th>\n",
       "      <td>1714</td>\n",
       "      <td>s_0</td>\n",
       "      <td>-1.181125</td>\n",
       "    </tr>\n",
       "    <tr>\n",
       "      <th>4</th>\n",
       "      <td>1715</td>\n",
       "      <td>s_0</td>\n",
       "      <td>-0.496436</td>\n",
       "    </tr>\n",
       "    <tr>\n",
       "      <th>...</th>\n",
       "      <td>...</td>\n",
       "      <td>...</td>\n",
       "      <td>...</td>\n",
       "    </tr>\n",
       "    <tr>\n",
       "      <th>3828250</th>\n",
       "      <td>2598</td>\n",
       "      <td>s_999</td>\n",
       "      <td>0.186671</td>\n",
       "    </tr>\n",
       "    <tr>\n",
       "      <th>3828251</th>\n",
       "      <td>2599</td>\n",
       "      <td>s_999</td>\n",
       "      <td>-0.022782</td>\n",
       "    </tr>\n",
       "    <tr>\n",
       "      <th>3828252</th>\n",
       "      <td>2600</td>\n",
       "      <td>s_999</td>\n",
       "      <td>-0.074305</td>\n",
       "    </tr>\n",
       "    <tr>\n",
       "      <th>3828253</th>\n",
       "      <td>2601</td>\n",
       "      <td>s_999</td>\n",
       "      <td>-0.072921</td>\n",
       "    </tr>\n",
       "    <tr>\n",
       "      <th>3828254</th>\n",
       "      <td>2602</td>\n",
       "      <td>s_999</td>\n",
       "      <td>-0.061100</td>\n",
       "    </tr>\n",
       "  </tbody>\n",
       "</table>\n",
       "<p>3828255 rows × 3 columns</p>\n",
       "</div>"
      ],
      "text/plain": [
       "         date   code    y_pred\n",
       "0        1711    s_0  0.012596\n",
       "1        1712    s_0 -0.743100\n",
       "2        1713    s_0 -0.331426\n",
       "3        1714    s_0 -1.181125\n",
       "4        1715    s_0 -0.496436\n",
       "...       ...    ...       ...\n",
       "3828250  2598  s_999  0.186671\n",
       "3828251  2599  s_999 -0.022782\n",
       "3828252  2600  s_999 -0.074305\n",
       "3828253  2601  s_999 -0.072921\n",
       "3828254  2602  s_999 -0.061100\n",
       "\n",
       "[3828255 rows x 3 columns]"
      ]
     },
     "execution_count": 64,
     "metadata": {},
     "output_type": "execute_result"
    }
   ],
   "source": [
    "GRU_test_result"
   ]
  },
  {
   "cell_type": "code",
   "execution_count": 66,
   "id": "41bb4edb-1acb-4a5d-9f57-1bd1d874a094",
   "metadata": {},
   "outputs": [],
   "source": [
    "with open('./data/GRU_3MAD_RZ_KNN_截面zscore的y.pkl', 'wb') as f:\n",
    "    pickle.dump(model, f)\n",
    "with open('./data/GRU_3MAD_RZ_KNN_截面zscore的y_test_result.pkl', 'wb') as f:\n",
    "    pickle.dump(GRU_test_result, f)"
   ]
  }
 ],
 "metadata": {
  "kernelspec": {
   "display_name": "Python 3 (ipykernel)",
   "language": "python",
   "name": "python3"
  },
  "language_info": {
   "codemirror_mode": {
    "name": "ipython",
    "version": 3
   },
   "file_extension": ".py",
   "mimetype": "text/x-python",
   "name": "python",
   "nbconvert_exporter": "python",
   "pygments_lexer": "ipython3",
   "version": "3.9.19"
  }
 },
 "nbformat": 4,
 "nbformat_minor": 5
}
