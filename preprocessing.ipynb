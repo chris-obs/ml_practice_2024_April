{
 "cells": [
  {
   "cell_type": "markdown",
   "id": "0f7e5379-24f2-4ae8-b8d8-bce461ffe3c0",
   "metadata": {},
   "source": [
    "导入所需包，载入数据。"
   ]
  },
  {
   "cell_type": "code",
   "execution_count": 1,
   "id": "591c0bff-8a13-4f89-8bc2-1187c2df41cb",
   "metadata": {},
   "outputs": [],
   "source": [
    "import pandas as pd\n",
    "import numpy as np\n",
    "import pickle\n",
    "import preprocessing\n",
    "from datetime import datetime"
   ]
  },
  {
   "cell_type": "code",
   "execution_count": 2,
   "id": "1122cbb4-01d0-465b-bc22-37428930faba",
   "metadata": {},
   "outputs": [],
   "source": [
    "with open('./data/train_data.pkl', 'rb') as f:\n",
    "    train_data_raw = pickle.load(f)\n",
    "with open('./data/test_data.pkl', 'rb') as f:\n",
    "    test_data_raw = pickle.load(f)"
   ]
  },
  {
   "cell_type": "markdown",
   "id": "94f6ed3c-bf93-4040-b57d-853f0650405f",
   "metadata": {},
   "source": [
    "划分训练集和验证集。"
   ]
  },
  {
   "cell_type": "code",
   "execution_count": 3,
   "id": "2ad701f1-7c1a-425d-996b-9db7ae7b2531",
   "metadata": {},
   "outputs": [],
   "source": [
    "split_date = round(train_data_raw['date'].unique().shape[0] * 0.9)\n",
    "valid_data_raw = train_data_raw.loc[train_data_raw['date'] >= split_date]\n",
    "train_data_raw = train_data_raw.loc[train_data_raw['date'] < split_date]"
   ]
  },
  {
   "cell_type": "code",
   "execution_count": 4,
   "id": "df4363ed-1b9b-49f5-bfad-589a276072db",
   "metadata": {},
   "outputs": [],
   "source": [
    "X_train_raw = train_data_raw.drop(columns=['y']).reset_index(drop=True)\n",
    "y_train = train_data_raw['y'].reset_index(drop=True)\n",
    "X_valid_raw = valid_data_raw.drop(columns=['y']).reset_index(drop=True)\n",
    "y_valid = valid_data_raw['y'].reset_index(drop=True)\n",
    "X_test_raw = test_data_raw.reset_index(drop=True)"
   ]
  },
  {
   "cell_type": "markdown",
   "id": "253a0d30-0e93-464d-b36e-239711146d0b",
   "metadata": {},
   "source": [
    "预处理1：对训练集和验证集，因为f_6是类别变量，先对f_6使用target_encoding编码。"
   ]
  },
  {
   "cell_type": "code",
   "execution_count": 7,
   "id": "d05b22d5-d0c9-450d-a731-4aa915b86e35",
   "metadata": {},
   "outputs": [
    {
     "name": "stdout",
     "output_type": "stream",
     "text": [
      "开始时间为: 2024-04-10 11:15:32.144371\n",
      "结束时间为: 2024-04-10 11:15:35.684821\n",
      "处理时间为： 0:00:03.540450\n"
     ]
    }
   ],
   "source": [
    "start_time = datetime.now()\n",
    "print(\"开始时间为:\", start_time)\n",
    "\n",
    "X_train_encoded, target_encoder = preprocessing.target_encode(X_train_raw, 'f_6', y_train)\n",
    "X_valid_encoded = preprocessing.target_encode(X_valid_raw, 'f_6', encoder=target_encoder)\n",
    "X_test_encoded = preprocessing.target_encode(X_test_raw, 'f_6', encoder=target_encoder)\n",
    "\n",
    "end_time = datetime.now()\n",
    "print(\"结束时间为:\", end_time)\n",
    "print(\"处理时间为：\", end_time - start_time)"
   ]
  },
  {
   "cell_type": "markdown",
   "id": "079fc845-9045-4958-afea-1853afc13ac6",
   "metadata": {},
   "source": [
    "预处理2-1：对训练集和验证集编码后，在截面上用KNN填补缺失值，基于训练集数据进行缩尾，并在截面上用ZScore标准化，用于不能处理缺失值的模型。"
   ]
  },
  {
   "cell_type": "code",
   "execution_count": 8,
   "id": "1572802c-06ae-4732-b489-e64bab4c52e4",
   "metadata": {},
   "outputs": [
    {
     "name": "stdout",
     "output_type": "stream",
     "text": [
      "开始时间为: 2024-04-10 11:15:37.869860\n",
      "结束时间为: 2024-04-10 11:30:19.263335\n",
      "处理时间为： 0:14:41.393475\n"
     ]
    }
   ],
   "source": [
    "start_time = datetime.now()\n",
    "print(\"开始时间为:\", start_time)\n",
    "\n",
    "X_train_filled = preprocessing.imputer_KNN(X_train_encoded)\n",
    "X_valid_filled = preprocessing.imputer_KNN(X_valid_encoded)\n",
    "X_test_filled = preprocessing.imputer_KNN(X_test_encoded)\n",
    "\n",
    "X_train_filled_win, lower_bound_filled, upper_bound_filled = preprocessing.winsorize_X(X_train_filled)\n",
    "X_valid_filled_win = preprocessing.winsorize_X(X_valid_filled, lower_bound_filled, upper_bound_filled)\n",
    "X_test_filled_win = preprocessing.winsorize_X(X_test_filled, lower_bound_filled, upper_bound_filled)\n",
    "\n",
    "X_train_filled_cleaned = preprocessing.zscore_standardization(X_train_filled_win)\n",
    "X_valid_filled_cleaned = preprocessing.zscore_standardization(X_valid_filled_win)\n",
    "X_test_filled_cleaned = preprocessing.zscore_standardization(X_test_filled_win)\n",
    "\n",
    "end_time = datetime.now()\n",
    "print(\"结束时间为:\", end_time)\n",
    "print(\"处理时间为：\", end_time - start_time)"
   ]
  },
  {
   "cell_type": "markdown",
   "id": "902c3367-922f-4c87-8f96-4d7962a9b838",
   "metadata": {},
   "source": [
    "预处理2-2：对训练集和验证集编码后，直接基于训练集数据进行缩尾，并在截面上用ZScore标准化，用于可以处理缺失值的模型。"
   ]
  },
  {
   "cell_type": "code",
   "execution_count": 9,
   "id": "1c243707-32d9-467d-ba1a-e063288f73c8",
   "metadata": {},
   "outputs": [
    {
     "name": "stdout",
     "output_type": "stream",
     "text": [
      "开始时间为: 2024-04-10 11:30:19.319911\n",
      "结束时间为: 2024-04-10 11:33:34.068937\n",
      "处理时间为： 0:03:14.749026\n"
     ]
    }
   ],
   "source": [
    "start_time = datetime.now()\n",
    "print(\"开始时间为:\", start_time)\n",
    "\n",
    "X_train_unfilled_win, lower_bound_unfilled, upper_bound_unfilled = preprocessing.winsorize_X(X_train_encoded)\n",
    "X_valid_unfilled_win = preprocessing.winsorize_X(X_valid_encoded, lower_bound_unfilled, upper_bound_unfilled)\n",
    "X_test_unfilled_win = preprocessing.winsorize_X(X_test_encoded, lower_bound_unfilled, upper_bound_unfilled)\n",
    "\n",
    "X_train_unfilled_cleaned = preprocessing.zscore_standardization(X_train_unfilled_win)\n",
    "X_valid_unfilled_cleaned = preprocessing.zscore_standardization(X_valid_unfilled_win)\n",
    "X_test_unfilled_cleaned = preprocessing.zscore_standardization(X_test_unfilled_win)\n",
    "\n",
    "end_time = datetime.now()\n",
    "print(\"结束时间为:\", end_time)\n",
    "print(\"处理时间为：\", end_time - start_time)"
   ]
  },
  {
   "cell_type": "markdown",
   "id": "9261bc15-b983-48f0-a909-3d5f003d4e13",
   "metadata": {},
   "source": [
    "预处理3：对于填充了缺失值的数据，用互信息法尝试进行特征选择，选出10个特征，留作与未经选择的特征的效果进行比较。"
   ]
  },
  {
   "cell_type": "code",
   "execution_count": 10,
   "id": "5d4a5060-6e4d-4b1e-b3c4-9e45ef77ea38",
   "metadata": {},
   "outputs": [
    {
     "name": "stdout",
     "output_type": "stream",
     "text": [
      "开始时间为: 2024-04-10 11:33:34.104939\n",
      "结束时间为: 2024-04-10 12:02:55.749086\n",
      "处理时间为： 0:29:21.644147\n"
     ]
    }
   ],
   "source": [
    "start_time = datetime.now()\n",
    "print(\"开始时间为:\", start_time)\n",
    "\n",
    "X_train_filled_selected, mi_selector = preprocessing.mutual_info_selection(X_train_filled_cleaned, y_train)\n",
    "X_valid_filled_selected = preprocessing.mutual_info_selection(X_valid_filled_cleaned, selector=mi_selector)\n",
    "X_test_filled_selected = preprocessing.mutual_info_selection(X_test_filled_cleaned, selector=mi_selector)\n",
    "\n",
    "end_time = datetime.now()\n",
    "print(\"结束时间为:\", end_time)\n",
    "print(\"处理时间为：\", end_time - start_time)"
   ]
  },
  {
   "cell_type": "markdown",
   "id": "3129f9dd-08bb-4a52-988f-be59ce808105",
   "metadata": {},
   "source": [
    "保存所得数据。"
   ]
  },
  {
   "cell_type": "code",
   "execution_count": 11,
   "id": "8a74616a-fce8-4524-840c-bcc6353a0af1",
   "metadata": {},
   "outputs": [],
   "source": [
    "with open('./data/X_train_filled_cleaned.pkl', 'wb') as f:\n",
    "    pickle.dump(X_train_filled_cleaned, f)\n",
    "with open('./data/X_valid_filled_cleaned.pkl', 'wb') as f:\n",
    "    pickle.dump(X_valid_filled_cleaned, f)\n",
    "with open('./data/X_test_filled_cleaned.pkl', 'wb') as f:\n",
    "    pickle.dump(X_test_filled_cleaned, f)\n",
    "with open('./data/X_train_unfilled_cleaned.pkl', 'wb') as f:\n",
    "    pickle.dump(X_train_unfilled_cleaned, f)\n",
    "with open('./data/X_valid_unfilled_cleaned.pkl', 'wb') as f:\n",
    "    pickle.dump(X_valid_unfilled_cleaned, f) \n",
    "with open('./data/X_test_unfilled_cleaned.pkl', 'wb') as f:\n",
    "    pickle.dump(X_test_unfilled_cleaned, f) \n",
    "with open('./data/X_train_filled_selected.pkl', 'wb') as f:\n",
    "    pickle.dump(X_train_filled_selected, f)\n",
    "with open('./data/X_valid_filled_selected.pkl', 'wb') as f:\n",
    "    pickle.dump(X_valid_filled_selected, f)\n",
    "with open('./data/X_test_filled_selected.pkl', 'wb') as f:\n",
    "    pickle.dump(X_test_filled_selected, f)\n",
    "with open('./data/y_train.pkl', 'wb') as f:\n",
    "    pickle.dump(y_train, f)\n",
    "with open('./data/y_valid.pkl', 'wb') as f:\n",
    "    pickle.dump(y_valid, f)   "
   ]
  }
 ],
 "metadata": {
  "kernelspec": {
   "display_name": "Python 3 (ipykernel)",
   "language": "python",
   "name": "python3"
  },
  "language_info": {
   "codemirror_mode": {
    "name": "ipython",
    "version": 3
   },
   "file_extension": ".py",
   "mimetype": "text/x-python",
   "name": "python",
   "nbconvert_exporter": "python",
   "pygments_lexer": "ipython3",
   "version": "3.9.19"
  }
 },
 "nbformat": 4,
 "nbformat_minor": 5
}
