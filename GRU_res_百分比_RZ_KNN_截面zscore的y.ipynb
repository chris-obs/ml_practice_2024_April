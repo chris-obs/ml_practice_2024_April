{
 "cells": [
  {
   "cell_type": "markdown",
   "id": "2230f5da-4066-4b11-bcbc-18b5e9cc6345",
   "metadata": {},
   "source": [
    "导入所需包，准备数据"
   ]
  },
  {
   "cell_type": "code",
   "execution_count": 1,
   "id": "a3bca93b-0815-473e-8502-16f3a909e0e9",
   "metadata": {},
   "outputs": [],
   "source": [
    "import pandas as pd\n",
    "import numpy as np\n",
    "import pickle\n",
    "import model_function\n",
    "import preprocessing\n",
    "from datetime import datetime\n",
    "import torch\n",
    "import torch.nn as nn\n",
    "import torch.optim as optim\n",
    "import torch.nn.functional as F\n",
    "from torch.utils.data import DataLoader, Dataset"
   ]
  },
  {
   "cell_type": "markdown",
   "id": "05b54d9c-796d-4ede-b96f-6a9d387f00f6",
   "metadata": {},
   "source": [
    "读取数据，准备训练（给数据用预处理方法改了名）"
   ]
  },
  {
   "cell_type": "code",
   "execution_count": 2,
   "id": "68c7f280-5a38-4e48-b612-c4aaf2cda92c",
   "metadata": {},
   "outputs": [],
   "source": [
    "with open('./data/GRU_百分比_RZ_KNN训练样本.pkl', 'rb') as f:\n",
    "    train_samples = pickle.load(f)"
   ]
  },
  {
   "cell_type": "code",
   "execution_count": 3,
   "id": "ae84fc15-08ad-4524-a69f-8336683d0d6c",
   "metadata": {},
   "outputs": [],
   "source": [
    "train_targets = train_samples[:, -1, -1].astype(float)\n",
    "train_features = train_samples[:, :, 2:-1].astype(float)"
   ]
  },
  {
   "cell_type": "code",
   "execution_count": 4,
   "id": "cf22e934-757a-44ca-9a95-a97f2343f9e2",
   "metadata": {},
   "outputs": [],
   "source": [
    "del train_samples"
   ]
  },
  {
   "cell_type": "code",
   "execution_count": 5,
   "id": "74ed2d3e-8163-46e7-af0d-8eba0827fa8c",
   "metadata": {},
   "outputs": [],
   "source": [
    "with open('./data/GRU_百分比_RZ_KNN验证样本.pkl', 'rb') as f:\n",
    "    valid_samples = pickle.load(f)"
   ]
  },
  {
   "cell_type": "code",
   "execution_count": 6,
   "id": "9b1af2c5-3962-4355-b624-47d2c418f6de",
   "metadata": {},
   "outputs": [],
   "source": [
    "# 为节省内存，把后面验证需要的数据先生成，以便早点删除占内存极大的样本变量\n",
    "GRU_valid_df_ori = pd.DataFrame(valid_samples[:, -1, [0, 1, -1]], columns=['date', 'code', 'y'])"
   ]
  },
  {
   "cell_type": "code",
   "execution_count": 7,
   "id": "73198839-6f55-44d8-abff-432ecf97ff1e",
   "metadata": {},
   "outputs": [],
   "source": [
    "valid_targets = valid_samples[:, -1, -1].astype(float)\n",
    "valid_features = valid_samples[:, :, 2:-1].astype(float)"
   ]
  },
  {
   "cell_type": "code",
   "execution_count": 8,
   "id": "f90d786e-f2b5-4200-8497-14c5fe39ac60",
   "metadata": {},
   "outputs": [],
   "source": [
    "del valid_samples"
   ]
  },
  {
   "cell_type": "code",
   "execution_count": 9,
   "id": "b1624ae4-aa02-499f-9f21-f090c8c3e25b",
   "metadata": {},
   "outputs": [],
   "source": [
    "with open('./data/GRU_百分比_RZ_KNN测试样本.pkl', 'rb') as f:\n",
    "    test_samples = pickle.load(f)"
   ]
  },
  {
   "cell_type": "code",
   "execution_count": 10,
   "id": "818bfc9c-c9b2-4978-9d69-c83a5505f62c",
   "metadata": {},
   "outputs": [],
   "source": [
    "# 为节省内存，把后面验证需要的数据先生成，以便早点删除占内存极大的样本变量\n",
    "GRU_test_result_ori = pd.DataFrame(test_samples[:, -1, [0, 1]], columns=['date', 'code'])"
   ]
  },
  {
   "cell_type": "code",
   "execution_count": 11,
   "id": "d393b84e-1072-41e2-8ed9-03e479ed42dc",
   "metadata": {},
   "outputs": [],
   "source": [
    "test_features = test_samples[:, :, 2:].astype(float)"
   ]
  },
  {
   "cell_type": "code",
   "execution_count": 12,
   "id": "844576ce-8f52-4339-b1c2-48a74598d4ae",
   "metadata": {},
   "outputs": [],
   "source": [
    "del test_samples"
   ]
  },
  {
   "cell_type": "markdown",
   "id": "8298b981-ef08-4742-af19-198cb0a09c81",
   "metadata": {},
   "source": [
    "加载数据"
   ]
  },
  {
   "cell_type": "code",
   "execution_count": 13,
   "id": "6385f069-1ff4-4442-ab34-4e90422e7467",
   "metadata": {},
   "outputs": [],
   "source": [
    "# 定义数据集类\n",
    "class StockDataset(Dataset):\n",
    "    def __init__(self, features, targets):\n",
    "        self.features = torch.tensor(features, dtype=torch.float)\n",
    "        self.targets = torch.tensor(targets, dtype=torch.float)\n",
    "\n",
    "    def __len__(self):\n",
    "        return len(self.features)\n",
    "\n",
    "    def __getitem__(self, idx):\n",
    "        return self.features[idx], self.targets[idx]"
   ]
  },
  {
   "cell_type": "code",
   "execution_count": 14,
   "id": "e8a83119-74f8-49bc-abd0-8adadeafa100",
   "metadata": {},
   "outputs": [],
   "source": [
    "# 准备数据集\n",
    "train_dataset = StockDataset(train_features, train_targets)\n",
    "valid_dataset = StockDataset(valid_features, valid_targets)"
   ]
  },
  {
   "cell_type": "code",
   "execution_count": 15,
   "id": "3280e0c9-c828-428e-ab84-81630e35a159",
   "metadata": {},
   "outputs": [
    {
     "name": "stdout",
     "output_type": "stream",
     "text": [
      "使用的设备: cuda\n"
     ]
    }
   ],
   "source": [
    "device = torch.device(\"cuda\" if torch.cuda.is_available() else \"cpu\")\n",
    "print(\"使用的设备:\", device)"
   ]
  },
  {
   "cell_type": "code",
   "execution_count": 16,
   "id": "3e9d9058-6d42-4e28-97e5-1291f27cf5ae",
   "metadata": {},
   "outputs": [],
   "source": [
    "# 定义GRU模型\n",
    "class GRUNet(nn.Module):\n",
    "    def __init__(self, input_size, hidden_size, num_layers=1):\n",
    "        super(GRUNet, self).__init__()\n",
    "        self.hidden_size = hidden_size\n",
    "        self.num_layers = num_layers\n",
    "        self.gru = nn.GRU(input_size, hidden_size, num_layers, dropout=0.1, batch_first=True) #加入dropout减少过拟合\n",
    "        self.bn = nn.BatchNorm1d(hidden_size)\n",
    "        self.fc = nn.Linear(hidden_size, 1)\n",
    "\n",
    "    def forward(self, x):\n",
    "        h0 = torch.zeros(self.num_layers, x.size(0), self.hidden_size).to(x.device)  # 默认使用全零张量作为初始隐藏状态\n",
    "        # 前向传播 GRU\n",
    "        out, _ = self.gru(x, h0)\n",
    "        # 取最后一个时间步的输出\n",
    "        out = out[:, -1, :]\n",
    "        # 批量归一化\n",
    "        out = self.bn(out)\n",
    "        # 全连接层\n",
    "        out = self.fc(out)\n",
    "        return out\n",
    "\n",
    "# 用IC作为损失函数\n",
    "def pearson_correlation(x, y):\n",
    "    cov = torch.mean((x - torch.mean(x)) * (y - torch.mean(y)))\n",
    "    std_x = torch.std(x)\n",
    "    std_y = torch.std(y)\n",
    "    return cov / (std_x * std_y)\n",
    "\n",
    "class PearsonLoss(nn.Module):\n",
    "    def __init__(self):\n",
    "        super(PearsonLoss, self).__init__()\n",
    "\n",
    "    def forward(self, x, y):\n",
    "        return -pearson_correlation(x, y)"
   ]
  },
  {
   "cell_type": "markdown",
   "id": "afd092e7-b8e1-44a9-8a4e-ff2c00ac0ac1",
   "metadata": {},
   "source": [
    "定义模型时，为了拟合残差，此处使用MSE损失函数"
   ]
  },
  {
   "cell_type": "code",
   "execution_count": 17,
   "id": "1dbf83cb-689b-4224-b0f7-7a48b1f89efb",
   "metadata": {},
   "outputs": [],
   "source": [
    "# 定义模型、损失函数和优化器\n",
    "input_size = 10  # 特征数量\n",
    "hidden_size = 64  # 隐藏层大小\n",
    "num_layers = 2  # GRU层数\n",
    "model = GRUNet(input_size, hidden_size, num_layers).to(device)\n",
    "#criterion = PearsonLoss()\n",
    "criterion = nn.MSELoss()\n",
    "optimizer = optim.Adam(model.parameters(), lr=0.0001)\n",
    "\n",
    "# 模型训练参数\n",
    "num_epochs = 5 #试过迭代10轮，但并不能有效提高验证集上的ic\n",
    "batch_size = 256\n",
    "train_loader = DataLoader(train_dataset, batch_size=batch_size, shuffle=True)"
   ]
  },
  {
   "cell_type": "code",
   "execution_count": 18,
   "id": "7f4c69de-658d-4a81-8d67-2f1c9a65f670",
   "metadata": {},
   "outputs": [
    {
     "name": "stdout",
     "output_type": "stream",
     "text": [
      "开始时间为: 2024-04-25 18:22:05.964090\n",
      "Epoch [1/5], Loss: 0.9339\n",
      "Epoch [2/5], Loss: 0.9278\n",
      "Epoch [3/5], Loss: 0.9251\n",
      "Epoch [4/5], Loss: 0.9230\n",
      "Epoch [5/5], Loss: 0.9214\n",
      "结束时间为: 2024-04-25 18:29:05.627703\n",
      "处理时间为： 0:06:59.663613\n"
     ]
    }
   ],
   "source": [
    "start_time = datetime.now()\n",
    "print(\"开始时间为:\", start_time)\n",
    "\n",
    "for epoch in range(num_epochs):\n",
    "    model.train()\n",
    "    total_loss = 0  # 初始化整个 epoch 的损失\n",
    "    total_batches = 0  # 初始化总批次数\n",
    "    for features, target in train_loader:\n",
    "        features, target = features.to(device), target.to(device)\n",
    "        optimizer.zero_grad()\n",
    "        outputs = model(features)\n",
    "        loss = criterion(outputs.squeeze(), target)\n",
    "        #loss.requires_grad_(True)\n",
    "        loss.backward()\n",
    "        optimizer.step()\n",
    "\n",
    "        total_loss += loss.item()  # 累加当前批次的损失值\n",
    "        total_batches += 1  # 更新总批次数\n",
    "\n",
    "    epoch_loss = total_loss / total_batches\n",
    "    print(f'Epoch [{epoch+1}/{num_epochs}], Loss: {epoch_loss:.4f}')\n",
    "\n",
    "end_time = datetime.now()\n",
    "print(\"结束时间为:\", end_time)\n",
    "print(\"处理时间为：\", end_time - start_time)"
   ]
  },
  {
   "cell_type": "code",
   "execution_count": 19,
   "id": "f323bb48-9829-4920-8dd0-5858c6887c27",
   "metadata": {},
   "outputs": [
    {
     "name": "stdout",
     "output_type": "stream",
     "text": [
      "开始时间为: 2024-04-25 18:29:05.653708\n",
      "Average Train Loss: 0.9199\n",
      "结束时间为: 2024-04-25 18:30:01.362953\n",
      "处理时间为： 0:00:55.709245\n"
     ]
    }
   ],
   "source": [
    "start_time = datetime.now()\n",
    "print(\"开始时间为:\", start_time)\n",
    "\n",
    "# 得到模型在训练集上的预测结果，计算预测结果和真实值的残差\n",
    "train_loader_2 = DataLoader(train_dataset, batch_size=batch_size, shuffle=False)\n",
    "model.eval()\n",
    "predictions_t = []\n",
    "\n",
    "with torch.no_grad():\n",
    "    total_loss = 0\n",
    "    for features, target in train_loader_2:\n",
    "        features, target = features.to(device), target.to(device)\n",
    "        outputs = model(features)\n",
    "        predictions_t.append(outputs)\n",
    "        total_loss += criterion(outputs.squeeze(), target).item()\n",
    "        \n",
    "    print(f'Average Train Loss: {total_loss / len(train_loader_2):.4f}')\n",
    "\n",
    "predictions_t = torch.cat(predictions_t, dim=0)\n",
    "predictions_t = predictions_t.reshape(-1).cpu().numpy()\n",
    "res = train_targets - predictions_t\n",
    "\n",
    "end_time = datetime.now()\n",
    "print(\"结束时间为:\", end_time)\n",
    "print(\"处理时间为：\", end_time - start_time)"
   ]
  },
  {
   "cell_type": "markdown",
   "id": "07910a11-8b8f-4c73-90a3-2b75e4294727",
   "metadata": {},
   "source": [
    "训练第二个模型拟合第一个模型的残差"
   ]
  },
  {
   "cell_type": "code",
   "execution_count": 20,
   "id": "e4195130-3a48-48c7-b9e0-7adb7d73b07f",
   "metadata": {},
   "outputs": [],
   "source": [
    "res_dataset = StockDataset(train_features, res)\n",
    "model_res = GRUNet(input_size, hidden_size, num_layers).to(device)\n",
    "res_loader = DataLoader(res_dataset, batch_size=batch_size, shuffle=True)\n",
    "optimizer_res = optim.Adam(model_res.parameters(), lr=0.000002) #降低学习率，避免难以拟合残差"
   ]
  },
  {
   "cell_type": "code",
   "execution_count": 21,
   "id": "252ca774-877f-4672-bc51-b2dbef927039",
   "metadata": {},
   "outputs": [
    {
     "name": "stdout",
     "output_type": "stream",
     "text": [
      "开始时间为: 2024-04-25 18:30:03.127954\n",
      "Epoch [1/5], Loss: 0.9500\n",
      "Epoch [2/5], Loss: 0.9255\n",
      "Epoch [3/5], Loss: 0.9224\n",
      "Epoch [4/5], Loss: 0.9211\n",
      "Epoch [5/5], Loss: 0.9202\n",
      "结束时间为: 2024-04-25 18:37:05.584017\n",
      "处理时间为： 0:07:02.456063\n"
     ]
    }
   ],
   "source": [
    "start_time = datetime.now()\n",
    "print(\"开始时间为:\", start_time)\n",
    "\n",
    "for epoch in range(num_epochs):\n",
    "    model_res.train()\n",
    "    total_loss = 0  # 初始化整个 epoch 的损失\n",
    "    total_batches = 0  # 初始化总批次数\n",
    "    for features, target in res_loader:\n",
    "        features, target = features.to(device), target.to(device)\n",
    "        optimizer_res.zero_grad()\n",
    "        outputs = model_res(features)\n",
    "        loss = criterion(outputs.squeeze(), target)\n",
    "        #loss.requires_grad_(True)\n",
    "        loss.backward()\n",
    "        optimizer_res.step()\n",
    "\n",
    "        total_loss += loss.item()  # 累加当前批次的损失值\n",
    "        total_batches += 1  # 更新总批次数\n",
    "\n",
    "    epoch_loss = total_loss / total_batches\n",
    "    print(f'Epoch [{epoch+1}/{num_epochs}], Loss: {epoch_loss:.4f}')\n",
    "\n",
    "end_time = datetime.now()\n",
    "print(\"结束时间为:\", end_time)\n",
    "print(\"处理时间为：\", end_time - start_time)"
   ]
  },
  {
   "cell_type": "markdown",
   "id": "531f3e41-cb4a-486b-8333-11015a1bfdc2",
   "metadata": {},
   "source": [
    "将两个模型结果相加，作为最终的预测值"
   ]
  },
  {
   "cell_type": "code",
   "execution_count": 22,
   "id": "5c1c43e3-f9a0-4229-a43b-37aeefb6a3a1",
   "metadata": {},
   "outputs": [
    {
     "name": "stdout",
     "output_type": "stream",
     "text": [
      "开始时间为: 2024-04-25 18:37:05.600022\n",
      "Average Valid Loss: 0.9769\n",
      "结束时间为: 2024-04-25 18:37:19.646754\n",
      "处理时间为： 0:00:14.046732\n"
     ]
    }
   ],
   "source": [
    "start_time = datetime.now()\n",
    "print(\"开始时间为:\", start_time)\n",
    "\n",
    "# 评估原模型\n",
    "valid_loader = DataLoader(valid_dataset, batch_size=batch_size, shuffle=False)\n",
    "model.eval()\n",
    "predictions = []\n",
    "\n",
    "with torch.no_grad():\n",
    "    total_loss = 0\n",
    "    for features, target in valid_loader:\n",
    "        features, target = features.to(device), target.to(device)\n",
    "        outputs = model(features)\n",
    "        predictions.append(outputs)\n",
    "        total_loss += criterion(outputs.squeeze(), target).item()\n",
    "        \n",
    "    print(f'Average Valid Loss: {total_loss / len(valid_loader):.4f}')\n",
    "\n",
    "predictions = torch.cat(predictions, dim=0)\n",
    "predictions_series = pd.Series(predictions.reshape(-1).cpu().numpy())\n",
    "GRU_valid_df = GRU_valid_df_ori.copy()\n",
    "GRU_valid_df['y_1'] = predictions_series\n",
    "\n",
    "end_time = datetime.now()\n",
    "print(\"结束时间为:\", end_time)\n",
    "print(\"处理时间为：\", end_time - start_time)"
   ]
  },
  {
   "cell_type": "code",
   "execution_count": 24,
   "id": "9ef2a6df-7bf0-42f7-962e-f359a70adcdb",
   "metadata": {},
   "outputs": [
    {
     "name": "stdout",
     "output_type": "stream",
     "text": [
      "开始时间为: 2024-04-25 18:37:19.706757\n",
      "Average Valid Loss: 0.9806\n",
      "rankic均值为： 0.0789603570756313\n",
      "结束时间为: 2024-04-25 18:37:29.499332\n",
      "处理时间为： 0:00:09.792575\n"
     ]
    }
   ],
   "source": [
    "start_time = datetime.now()\n",
    "print(\"开始时间为:\", start_time)\n",
    "\n",
    "# 评估原模型\n",
    "model_res.eval()\n",
    "predictions = []\n",
    "\n",
    "with torch.no_grad():\n",
    "    total_loss = 0\n",
    "    for features, target in valid_loader:\n",
    "        features, target = features.to(device), target.to(device)\n",
    "        outputs = model_res(features)\n",
    "        predictions.append(outputs)\n",
    "        total_loss += criterion(outputs.squeeze(), target).item()\n",
    "        \n",
    "    print(f'Average Valid Loss: {total_loss / len(valid_loader):.4f}')\n",
    "\n",
    "predictions = torch.cat(predictions, dim=0)\n",
    "predictions_series = pd.Series(predictions.reshape(-1).cpu().numpy())\n",
    "GRU_valid_df['y_2'] = predictions_series\n",
    "GRU_valid_df['y_pred'] = GRU_valid_df['y_1'] + GRU_valid_df['y_2']\n",
    "GRU_rankic = model_function.get_rankic(GRU_valid_df)\n",
    "\n",
    "end_time = datetime.now()\n",
    "print(\"结束时间为:\", end_time)\n",
    "print(\"处理时间为：\", end_time - start_time)"
   ]
  },
  {
   "cell_type": "code",
   "execution_count": 25,
   "id": "830de257-26a7-4f6f-bc9b-81b21f39bf06",
   "metadata": {},
   "outputs": [
    {
     "data": {
      "text/html": [
       "<div>\n",
       "<style scoped>\n",
       "    .dataframe tbody tr th:only-of-type {\n",
       "        vertical-align: middle;\n",
       "    }\n",
       "\n",
       "    .dataframe tbody tr th {\n",
       "        vertical-align: top;\n",
       "    }\n",
       "\n",
       "    .dataframe thead th {\n",
       "        text-align: right;\n",
       "    }\n",
       "</style>\n",
       "<table border=\"1\" class=\"dataframe\">\n",
       "  <thead>\n",
       "    <tr style=\"text-align: right;\">\n",
       "      <th></th>\n",
       "      <th>date</th>\n",
       "      <th>code</th>\n",
       "      <th>y</th>\n",
       "      <th>y_1</th>\n",
       "      <th>y_2</th>\n",
       "      <th>y_pred</th>\n",
       "    </tr>\n",
       "  </thead>\n",
       "  <tbody>\n",
       "    <tr>\n",
       "      <th>0</th>\n",
       "      <td>1541</td>\n",
       "      <td>s_0</td>\n",
       "      <td>1.818162</td>\n",
       "      <td>-0.011825</td>\n",
       "      <td>-0.041888</td>\n",
       "      <td>-0.053712</td>\n",
       "    </tr>\n",
       "    <tr>\n",
       "      <th>1</th>\n",
       "      <td>1542</td>\n",
       "      <td>s_0</td>\n",
       "      <td>2.866452</td>\n",
       "      <td>-0.046325</td>\n",
       "      <td>-0.024397</td>\n",
       "      <td>-0.070721</td>\n",
       "    </tr>\n",
       "    <tr>\n",
       "      <th>2</th>\n",
       "      <td>1543</td>\n",
       "      <td>s_0</td>\n",
       "      <td>4.746281</td>\n",
       "      <td>0.011428</td>\n",
       "      <td>-0.033160</td>\n",
       "      <td>-0.021732</td>\n",
       "    </tr>\n",
       "    <tr>\n",
       "      <th>3</th>\n",
       "      <td>1544</td>\n",
       "      <td>s_0</td>\n",
       "      <td>1.892028</td>\n",
       "      <td>-0.003789</td>\n",
       "      <td>-0.037868</td>\n",
       "      <td>-0.041657</td>\n",
       "    </tr>\n",
       "    <tr>\n",
       "      <th>4</th>\n",
       "      <td>1545</td>\n",
       "      <td>s_0</td>\n",
       "      <td>2.342451</td>\n",
       "      <td>-0.070269</td>\n",
       "      <td>-0.098976</td>\n",
       "      <td>-0.169245</td>\n",
       "    </tr>\n",
       "    <tr>\n",
       "      <th>...</th>\n",
       "      <td>...</td>\n",
       "      <td>...</td>\n",
       "      <td>...</td>\n",
       "      <td>...</td>\n",
       "      <td>...</td>\n",
       "      <td>...</td>\n",
       "    </tr>\n",
       "    <tr>\n",
       "      <th>563647</th>\n",
       "      <td>1697</td>\n",
       "      <td>s_999</td>\n",
       "      <td>-0.37718</td>\n",
       "      <td>0.034448</td>\n",
       "      <td>-0.016839</td>\n",
       "      <td>0.017608</td>\n",
       "    </tr>\n",
       "    <tr>\n",
       "      <th>563648</th>\n",
       "      <td>1698</td>\n",
       "      <td>s_999</td>\n",
       "      <td>-0.437914</td>\n",
       "      <td>0.012588</td>\n",
       "      <td>-0.018716</td>\n",
       "      <td>-0.006128</td>\n",
       "    </tr>\n",
       "    <tr>\n",
       "      <th>563649</th>\n",
       "      <td>1699</td>\n",
       "      <td>s_999</td>\n",
       "      <td>0.762539</td>\n",
       "      <td>-0.007806</td>\n",
       "      <td>-0.024914</td>\n",
       "      <td>-0.032720</td>\n",
       "    </tr>\n",
       "    <tr>\n",
       "      <th>563650</th>\n",
       "      <td>1700</td>\n",
       "      <td>s_999</td>\n",
       "      <td>1.81606</td>\n",
       "      <td>-0.015723</td>\n",
       "      <td>-0.032651</td>\n",
       "      <td>-0.048374</td>\n",
       "    </tr>\n",
       "    <tr>\n",
       "      <th>563651</th>\n",
       "      <td>1701</td>\n",
       "      <td>s_999</td>\n",
       "      <td>2.15742</td>\n",
       "      <td>-0.025935</td>\n",
       "      <td>-0.033804</td>\n",
       "      <td>-0.059740</td>\n",
       "    </tr>\n",
       "  </tbody>\n",
       "</table>\n",
       "<p>563652 rows × 6 columns</p>\n",
       "</div>"
      ],
      "text/plain": [
       "        date   code         y       y_1       y_2    y_pred\n",
       "0       1541    s_0  1.818162 -0.011825 -0.041888 -0.053712\n",
       "1       1542    s_0  2.866452 -0.046325 -0.024397 -0.070721\n",
       "2       1543    s_0  4.746281  0.011428 -0.033160 -0.021732\n",
       "3       1544    s_0  1.892028 -0.003789 -0.037868 -0.041657\n",
       "4       1545    s_0  2.342451 -0.070269 -0.098976 -0.169245\n",
       "...      ...    ...       ...       ...       ...       ...\n",
       "563647  1697  s_999  -0.37718  0.034448 -0.016839  0.017608\n",
       "563648  1698  s_999 -0.437914  0.012588 -0.018716 -0.006128\n",
       "563649  1699  s_999  0.762539 -0.007806 -0.024914 -0.032720\n",
       "563650  1700  s_999   1.81606 -0.015723 -0.032651 -0.048374\n",
       "563651  1701  s_999   2.15742 -0.025935 -0.033804 -0.059740\n",
       "\n",
       "[563652 rows x 6 columns]"
      ]
     },
     "execution_count": 25,
     "metadata": {},
     "output_type": "execute_result"
    }
   ],
   "source": [
    "GRU_valid_df"
   ]
  },
  {
   "cell_type": "code",
   "execution_count": 26,
   "id": "fa5f97d7-65a2-4556-b095-df8b56ca2f74",
   "metadata": {},
   "outputs": [
    {
     "data": {
      "text/html": [
       "<div>\n",
       "<style scoped>\n",
       "    .dataframe tbody tr th:only-of-type {\n",
       "        vertical-align: middle;\n",
       "    }\n",
       "\n",
       "    .dataframe tbody tr th {\n",
       "        vertical-align: top;\n",
       "    }\n",
       "\n",
       "    .dataframe thead th {\n",
       "        text-align: right;\n",
       "    }\n",
       "</style>\n",
       "<table border=\"1\" class=\"dataframe\">\n",
       "  <thead>\n",
       "    <tr style=\"text-align: right;\">\n",
       "      <th></th>\n",
       "      <th>date</th>\n",
       "      <th>RankIC</th>\n",
       "    </tr>\n",
       "  </thead>\n",
       "  <tbody>\n",
       "    <tr>\n",
       "      <th>0</th>\n",
       "      <td>1541</td>\n",
       "      <td>-0.002113</td>\n",
       "    </tr>\n",
       "    <tr>\n",
       "      <th>1</th>\n",
       "      <td>1542</td>\n",
       "      <td>0.066835</td>\n",
       "    </tr>\n",
       "    <tr>\n",
       "      <th>2</th>\n",
       "      <td>1543</td>\n",
       "      <td>0.106764</td>\n",
       "    </tr>\n",
       "    <tr>\n",
       "      <th>3</th>\n",
       "      <td>1544</td>\n",
       "      <td>0.142847</td>\n",
       "    </tr>\n",
       "    <tr>\n",
       "      <th>4</th>\n",
       "      <td>1545</td>\n",
       "      <td>0.164839</td>\n",
       "    </tr>\n",
       "    <tr>\n",
       "      <th>...</th>\n",
       "      <td>...</td>\n",
       "      <td>...</td>\n",
       "    </tr>\n",
       "    <tr>\n",
       "      <th>156</th>\n",
       "      <td>1697</td>\n",
       "      <td>0.061699</td>\n",
       "    </tr>\n",
       "    <tr>\n",
       "      <th>157</th>\n",
       "      <td>1698</td>\n",
       "      <td>0.027257</td>\n",
       "    </tr>\n",
       "    <tr>\n",
       "      <th>158</th>\n",
       "      <td>1699</td>\n",
       "      <td>-0.003242</td>\n",
       "    </tr>\n",
       "    <tr>\n",
       "      <th>159</th>\n",
       "      <td>1700</td>\n",
       "      <td>-0.029591</td>\n",
       "    </tr>\n",
       "    <tr>\n",
       "      <th>160</th>\n",
       "      <td>1701</td>\n",
       "      <td>0.073547</td>\n",
       "    </tr>\n",
       "  </tbody>\n",
       "</table>\n",
       "<p>161 rows × 2 columns</p>\n",
       "</div>"
      ],
      "text/plain": [
       "     date    RankIC\n",
       "0    1541 -0.002113\n",
       "1    1542  0.066835\n",
       "2    1543  0.106764\n",
       "3    1544  0.142847\n",
       "4    1545  0.164839\n",
       "..    ...       ...\n",
       "156  1697  0.061699\n",
       "157  1698  0.027257\n",
       "158  1699 -0.003242\n",
       "159  1700 -0.029591\n",
       "160  1701  0.073547\n",
       "\n",
       "[161 rows x 2 columns]"
      ]
     },
     "execution_count": 26,
     "metadata": {},
     "output_type": "execute_result"
    }
   ],
   "source": [
    "GRU_rankic"
   ]
  },
  {
   "cell_type": "code",
   "execution_count": 27,
   "id": "e4bba2c6-b06b-43c7-a297-0a4084ee78b1",
   "metadata": {},
   "outputs": [
    {
     "data": {
      "text/plain": [
       "1.1062085324720505"
      ]
     },
     "execution_count": 27,
     "metadata": {},
     "output_type": "execute_result"
    }
   ],
   "source": [
    "GRU_rankic['RankIC'].mean() / GRU_rankic['RankIC'].std()"
   ]
  },
  {
   "cell_type": "code",
   "execution_count": 28,
   "id": "a57a2920-7d95-4d10-8fb5-133466af195c",
   "metadata": {},
   "outputs": [],
   "source": [
    "class TestDataset(Dataset):\n",
    "    def __init__(self, features):\n",
    "        self.features = torch.tensor(features, dtype=torch.float)\n",
    "\n",
    "    def __len__(self):\n",
    "        return len(self.features)\n",
    "\n",
    "    def __getitem__(self, idx):\n",
    "        return self.features[idx]"
   ]
  },
  {
   "cell_type": "code",
   "execution_count": 29,
   "id": "d650bfdd-dbe4-495e-86d6-e854b17e7bf4",
   "metadata": {},
   "outputs": [],
   "source": [
    "# 准备测试集数据\n",
    "test_dataset = TestDataset(test_features)\n",
    "\n",
    "# 创建测试集数据加载器\n",
    "test_loader = DataLoader(test_dataset, batch_size=batch_size, shuffle=False)"
   ]
  },
  {
   "cell_type": "code",
   "execution_count": 30,
   "id": "bad970c5-8aa9-4b8e-b54f-d2706c971aba",
   "metadata": {},
   "outputs": [
    {
     "name": "stdout",
     "output_type": "stream",
     "text": [
      "开始时间为: 2024-04-25 18:37:33.172163\n",
      "结束时间为: 2024-04-25 18:38:44.279104\n",
      "处理时间为： 0:01:11.106941\n"
     ]
    }
   ],
   "source": [
    "start_time = datetime.now()\n",
    "print(\"开始时间为:\", start_time)\n",
    "\n",
    "# 进行预测\n",
    "predictions = []\n",
    "with torch.no_grad():\n",
    "    for features in test_loader:\n",
    "        features = features.to(device)\n",
    "        outputs = model(features)\n",
    "        predictions.append(outputs)\n",
    "\n",
    "# 将所有预测结果连接成一个张量\n",
    "predictions = torch.cat(predictions, dim=0)\n",
    "predictions_series = pd.Series(predictions.reshape(-1).cpu().numpy())\n",
    "GRU_test_result = GRU_test_result_ori.copy()\n",
    "GRU_test_result['y_1'] = predictions_series\n",
    "\n",
    "end_time = datetime.now()\n",
    "print(\"结束时间为:\", end_time)\n",
    "print(\"处理时间为：\", end_time - start_time)"
   ]
  },
  {
   "cell_type": "code",
   "execution_count": 31,
   "id": "ce49b82c-8598-4952-9df2-afa2ce0186f8",
   "metadata": {},
   "outputs": [
    {
     "name": "stdout",
     "output_type": "stream",
     "text": [
      "开始时间为: 2024-04-25 18:38:44.390077\n",
      "结束时间为: 2024-04-25 18:39:20.713167\n",
      "处理时间为： 0:00:36.323090\n"
     ]
    }
   ],
   "source": [
    "start_time = datetime.now()\n",
    "print(\"开始时间为:\", start_time)\n",
    "\n",
    "# 进行预测\n",
    "predictions = []\n",
    "with torch.no_grad():\n",
    "    for features in test_loader:\n",
    "        features = features.to(device)\n",
    "        outputs = model_res(features)\n",
    "        predictions.append(outputs)\n",
    "\n",
    "# 将所有预测结果连接成一个张量\n",
    "predictions = torch.cat(predictions, dim=0)\n",
    "predictions_series = pd.Series(predictions.reshape(-1).cpu().numpy())\n",
    "GRU_test_result['y_2'] = predictions_series\n",
    "GRU_test_result['y_pred'] = GRU_test_result['y_1'] + GRU_test_result['y_2']\n",
    "\n",
    "end_time = datetime.now()\n",
    "print(\"结束时间为:\", end_time)\n",
    "print(\"处理时间为：\", end_time - start_time)"
   ]
  },
  {
   "cell_type": "code",
   "execution_count": 32,
   "id": "393ecf2d-f149-4eab-bcf8-3eb80df6cd33",
   "metadata": {},
   "outputs": [
    {
     "data": {
      "text/html": [
       "<div>\n",
       "<style scoped>\n",
       "    .dataframe tbody tr th:only-of-type {\n",
       "        vertical-align: middle;\n",
       "    }\n",
       "\n",
       "    .dataframe tbody tr th {\n",
       "        vertical-align: top;\n",
       "    }\n",
       "\n",
       "    .dataframe thead th {\n",
       "        text-align: right;\n",
       "    }\n",
       "</style>\n",
       "<table border=\"1\" class=\"dataframe\">\n",
       "  <thead>\n",
       "    <tr style=\"text-align: right;\">\n",
       "      <th></th>\n",
       "      <th>date</th>\n",
       "      <th>code</th>\n",
       "      <th>y_1</th>\n",
       "      <th>y_2</th>\n",
       "      <th>y_pred</th>\n",
       "    </tr>\n",
       "  </thead>\n",
       "  <tbody>\n",
       "    <tr>\n",
       "      <th>0</th>\n",
       "      <td>1711</td>\n",
       "      <td>s_0</td>\n",
       "      <td>-0.029407</td>\n",
       "      <td>-0.030717</td>\n",
       "      <td>-0.060124</td>\n",
       "    </tr>\n",
       "    <tr>\n",
       "      <th>1</th>\n",
       "      <td>1712</td>\n",
       "      <td>s_0</td>\n",
       "      <td>-0.207942</td>\n",
       "      <td>-0.074331</td>\n",
       "      <td>-0.282274</td>\n",
       "    </tr>\n",
       "    <tr>\n",
       "      <th>2</th>\n",
       "      <td>1713</td>\n",
       "      <td>s_0</td>\n",
       "      <td>-0.296059</td>\n",
       "      <td>-0.080541</td>\n",
       "      <td>-0.376600</td>\n",
       "    </tr>\n",
       "    <tr>\n",
       "      <th>3</th>\n",
       "      <td>1714</td>\n",
       "      <td>s_0</td>\n",
       "      <td>-0.407733</td>\n",
       "      <td>-0.092050</td>\n",
       "      <td>-0.499783</td>\n",
       "    </tr>\n",
       "    <tr>\n",
       "      <th>4</th>\n",
       "      <td>1715</td>\n",
       "      <td>s_0</td>\n",
       "      <td>-0.134697</td>\n",
       "      <td>-0.065973</td>\n",
       "      <td>-0.200670</td>\n",
       "    </tr>\n",
       "    <tr>\n",
       "      <th>...</th>\n",
       "      <td>...</td>\n",
       "      <td>...</td>\n",
       "      <td>...</td>\n",
       "      <td>...</td>\n",
       "      <td>...</td>\n",
       "    </tr>\n",
       "    <tr>\n",
       "      <th>3828250</th>\n",
       "      <td>2598</td>\n",
       "      <td>s_999</td>\n",
       "      <td>-0.058720</td>\n",
       "      <td>-0.001289</td>\n",
       "      <td>-0.060010</td>\n",
       "    </tr>\n",
       "    <tr>\n",
       "      <th>3828251</th>\n",
       "      <td>2599</td>\n",
       "      <td>s_999</td>\n",
       "      <td>-0.074297</td>\n",
       "      <td>-0.001861</td>\n",
       "      <td>-0.076158</td>\n",
       "    </tr>\n",
       "    <tr>\n",
       "      <th>3828252</th>\n",
       "      <td>2600</td>\n",
       "      <td>s_999</td>\n",
       "      <td>-0.040567</td>\n",
       "      <td>0.004394</td>\n",
       "      <td>-0.036173</td>\n",
       "    </tr>\n",
       "    <tr>\n",
       "      <th>3828253</th>\n",
       "      <td>2601</td>\n",
       "      <td>s_999</td>\n",
       "      <td>-0.027235</td>\n",
       "      <td>0.003200</td>\n",
       "      <td>-0.024034</td>\n",
       "    </tr>\n",
       "    <tr>\n",
       "      <th>3828254</th>\n",
       "      <td>2602</td>\n",
       "      <td>s_999</td>\n",
       "      <td>-0.043603</td>\n",
       "      <td>0.012128</td>\n",
       "      <td>-0.031476</td>\n",
       "    </tr>\n",
       "  </tbody>\n",
       "</table>\n",
       "<p>3828255 rows × 5 columns</p>\n",
       "</div>"
      ],
      "text/plain": [
       "         date   code       y_1       y_2    y_pred\n",
       "0        1711    s_0 -0.029407 -0.030717 -0.060124\n",
       "1        1712    s_0 -0.207942 -0.074331 -0.282274\n",
       "2        1713    s_0 -0.296059 -0.080541 -0.376600\n",
       "3        1714    s_0 -0.407733 -0.092050 -0.499783\n",
       "4        1715    s_0 -0.134697 -0.065973 -0.200670\n",
       "...       ...    ...       ...       ...       ...\n",
       "3828250  2598  s_999 -0.058720 -0.001289 -0.060010\n",
       "3828251  2599  s_999 -0.074297 -0.001861 -0.076158\n",
       "3828252  2600  s_999 -0.040567  0.004394 -0.036173\n",
       "3828253  2601  s_999 -0.027235  0.003200 -0.024034\n",
       "3828254  2602  s_999 -0.043603  0.012128 -0.031476\n",
       "\n",
       "[3828255 rows x 5 columns]"
      ]
     },
     "execution_count": 32,
     "metadata": {},
     "output_type": "execute_result"
    }
   ],
   "source": [
    "GRU_test_result"
   ]
  },
  {
   "cell_type": "code",
   "execution_count": 33,
   "id": "41bb4edb-1acb-4a5d-9f57-1bd1d874a094",
   "metadata": {},
   "outputs": [],
   "source": [
    "with open('./data/GRU_res_百分比_RZ_KNN_截面zscore的y_原model.pkl', 'wb') as f:\n",
    "    pickle.dump(model, f)\n",
    "with open('./data/GRU_res_百分比_RZ_KNN_截面zscore的y_残差model.pkl', 'wb') as f:\n",
    "    pickle.dump(model_res, f)\n",
    "with open('./data/GRU_res_百分比_RZ_KNN_截面zscore的y_test_result.pkl', 'wb') as f:\n",
    "    pickle.dump(GRU_test_result, f)"
   ]
  }
 ],
 "metadata": {
  "kernelspec": {
   "display_name": "Python 3 (ipykernel)",
   "language": "python",
   "name": "python3"
  },
  "language_info": {
   "codemirror_mode": {
    "name": "ipython",
    "version": 3
   },
   "file_extension": ".py",
   "mimetype": "text/x-python",
   "name": "python",
   "nbconvert_exporter": "python",
   "pygments_lexer": "ipython3",
   "version": "3.9.19"
  }
 },
 "nbformat": 4,
 "nbformat_minor": 5
}
